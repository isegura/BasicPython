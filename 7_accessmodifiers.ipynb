{
  "nbformat": 4,
  "nbformat_minor": 0,
  "metadata": {
    "colab": {
      "provenance": []
    },
    "kernelspec": {
      "name": "python3",
      "display_name": "Python 3"
    },
    "language_info": {
      "name": "python"
    }
  },
  "cells": [
    {
      "cell_type": "markdown",
      "source": [
        "# Access Modifiers in Python : Public, Private and Protected\n",
        "\n",
        "In this notebook, we will study the three access modifiers in Python that can help us to restrict access to the variables and methods of a class. \n",
        "There are three access modifiers in Python:\n",
        "\n",
        "- Public: by default, all members of a class in Python are public. This means that they are accessible from anywhere in a program. \n",
        "\n",
        "- protected: A protected member **is declared with '_' before its name**. A protected member should be only used in the class and its derived classes. **Actually, however, a protected member is accessible from anywhere**. \n",
        "\n",
        "- private: A private member **is declared with '__' before its name**. A private member can be only used from the own class. That is, it cannot be accessible from outside the class. \n",
        "\n"
      ],
      "metadata": {
        "id": "WVX9rrIbEJpa"
      }
    },
    {
      "cell_type": "code",
      "source": [
        "class Example:\n",
        "    def __init__(self, x, y, z):\n",
        "        self.public_variable = x # public variable\n",
        "        self._protected_variable = y # protected variable declared with single leading _\n",
        "        self.__private_variable = z # private variable declared with double leading __\n",
        "\n",
        "    "
      ],
      "metadata": {
        "id": "BHkLtXeUMPXw"
      },
      "execution_count": 1,
      "outputs": []
    },
    {
      "cell_type": "code",
      "source": [
        "obj = Example(1, 2, 3)\n",
        "print(obj.public_variable)\n",
        "print(obj._protected_variable)\n",
        "print(obj.__private_variable)\n"
      ],
      "metadata": {
        "colab": {
          "base_uri": "https://localhost:8080/",
          "height": 240
        },
        "id": "YaNhPCE8M049",
        "outputId": "6e8645f4-396b-4f62-b28a-96372deb9046"
      },
      "execution_count": 2,
      "outputs": [
        {
          "output_type": "stream",
          "name": "stdout",
          "text": [
            "1\n",
            "2\n"
          ]
        },
        {
          "output_type": "error",
          "ename": "AttributeError",
          "evalue": "ignored",
          "traceback": [
            "\u001b[0;31m---------------------------------------------------------------------------\u001b[0m",
            "\u001b[0;31mAttributeError\u001b[0m                            Traceback (most recent call last)",
            "\u001b[0;32m<ipython-input-2-418f66092b6c>\u001b[0m in \u001b[0;36m<module>\u001b[0;34m\u001b[0m\n\u001b[1;32m      2\u001b[0m \u001b[0mprint\u001b[0m\u001b[0;34m(\u001b[0m\u001b[0mobj\u001b[0m\u001b[0;34m.\u001b[0m\u001b[0mpublic_variable\u001b[0m\u001b[0;34m)\u001b[0m\u001b[0;34m\u001b[0m\u001b[0;34m\u001b[0m\u001b[0m\n\u001b[1;32m      3\u001b[0m \u001b[0mprint\u001b[0m\u001b[0;34m(\u001b[0m\u001b[0mobj\u001b[0m\u001b[0;34m.\u001b[0m\u001b[0m_protected_variable\u001b[0m\u001b[0;34m)\u001b[0m\u001b[0;34m\u001b[0m\u001b[0;34m\u001b[0m\u001b[0m\n\u001b[0;32m----> 4\u001b[0;31m \u001b[0mprint\u001b[0m\u001b[0;34m(\u001b[0m\u001b[0mobj\u001b[0m\u001b[0;34m.\u001b[0m\u001b[0m__private_variable\u001b[0m\u001b[0;34m)\u001b[0m\u001b[0;34m\u001b[0m\u001b[0;34m\u001b[0m\u001b[0m\n\u001b[0m",
            "\u001b[0;31mAttributeError\u001b[0m: 'Example' object has no attribute '__private_variable'"
          ]
        }
      ]
    }
  ]
}