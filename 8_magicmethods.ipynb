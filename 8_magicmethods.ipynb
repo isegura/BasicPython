{
  "nbformat": 4,
  "nbformat_minor": 0,
  "metadata": {
    "colab": {
      "provenance": []
    },
    "kernelspec": {
      "name": "python3",
      "display_name": "Python 3"
    },
    "language_info": {
      "name": "python"
    }
  },
  "cells": [
    {
      "cell_type": "markdown",
      "source": [
        "# Magic methods in Python\n",
        "\n",
        "Magic methods (or dunder methods) allow us to use primitive constructors (such as +, *, /) and other operators (such as <, <=, >, >=, ==, !=, len, sum, new, etc), which are more intuitive for us. That is, of course, we can define a function less_than to compare two objects of a class:\n",
        "\n",
        "```\n",
        "# obj_pol1 and obj_pol2 are objects of Polynomial class \n",
        "obj1.product(obj2) # returns a new polynomial object that is the product of the two polynomials\n",
        "\n",
        "```\n",
        "\n",
        "However, it is always more intuitive to directly use:\n",
        "\n",
        "```\n",
        "obj1*obj2\n",
        "```\n",
        " \n"
      ],
      "metadata": {
        "id": "fjafEnDcrsks"
      }
    },
    {
      "cell_type": "markdown",
      "source": [
        "Let's work with a class to represent complex numbers. Complex numbers are the numbers that are expressed in the form of a+ib where, a,b are real numbers and 'i' is √-1. \n",
        "\n",
        "We can create the following class with a method to sum two complex numbers:"
      ],
      "metadata": {
        "id": "plJ5YVzEuKP3"
      }
    },
    {
      "cell_type": "code",
      "execution_count": 10,
      "metadata": {
        "colab": {
          "base_uri": "https://localhost:8080/"
        },
        "id": "16wVkKBIrsL1",
        "outputId": "cf8ca2d2-76d0-43b7-b22e-e9542da827fc"
      },
      "outputs": [
        {
          "output_type": "stream",
          "name": "stdout",
          "text": [
            "Complex: (3, 5)\n",
            "Complex: (1, -3)\n",
            "Complex: (3, 5) plus Complex: (1, -3) is Complex: (4, 2)\n",
            "Complex: (3, 5) is equal to Complex: (1, -3): False\n",
            "Complex: (4, 2) is equal to Complex: (4, 2): True\n"
          ]
        }
      ],
      "source": [
        "class Complex:\n",
        "    def __init__(self, a: float, b: float) -> None:\n",
        "        self.a = a\n",
        "        self.b = b\n",
        "\n",
        "    def __str__(self) -> str:\n",
        "        # In this example, we will use a very simple version for str\n",
        "        return \"Complex: (\" + str(self.a) + \", \" + str(self.b) + \")\"\n",
        "\n",
        "    def sum(self, other_complex: \"Complex\") -> \"Complex\":\n",
        "        return Complex(self.a + other_complex.a, self.b + other_complex.b)\n",
        "\n",
        "    def equal_than(self, other_complex: \"Complex\") -> bool:\n",
        "        return (self.a == other_complex.a) and (self.b == other_complex.b)\n",
        "\n",
        "c1 = Complex(3,5)\n",
        "print(c1)\n",
        "c2 = Complex(1, -3)\n",
        "print(c2)\n",
        "\n",
        "c3 = c1.sum(c2)\n",
        "print(\"{} plus {} is {}\".format(c1,c2,c3))\n",
        "\n",
        "print(\"{} is equal to {}: {}\".format(c1,c2,c1.equal_than(c2)))\n",
        "\n",
        "c4= Complex(4,2)\n",
        "print(\"{} is equal to {}: {}\".format(c3,c4,c3.equal_than(c4)))\n"
      ]
    },
    {
      "cell_type": "markdown",
      "source": [
        "Both methods, **sum** and **equal_than** are good methods!!!. If we want to performa a more complex operation and write it in just one line. For example:\n"
      ],
      "metadata": {
        "id": "KCajmEmJvmpI"
      }
    },
    {
      "cell_type": "code",
      "source": [
        "c2.sum(c1.sum(c2)).equal_than(c2.sum(c3.sum(c2)))\n"
      ],
      "metadata": {
        "colab": {
          "base_uri": "https://localhost:8080/"
        },
        "id": "oDHbl0QBxDn9",
        "outputId": "e2e92a26-044f-4c16-86ee-cd709a64baf6"
      },
      "execution_count": 16,
      "outputs": [
        {
          "output_type": "execute_result",
          "data": {
            "text/plain": [
              "False"
            ]
          },
          "metadata": {},
          "execution_count": 16
        }
      ]
    },
    {
      "cell_type": "markdown",
      "source": [
        "This is a right code, but it is very difficult to understand, doesn't it?.\n",
        "The programmer will have to focus on each part to understand what the code does. \n",
        "Of course, you can always use temporary variables to improve the clarity of the code: "
      ],
      "metadata": {
        "id": "XuWJpQulxsA3"
      }
    },
    {
      "cell_type": "code",
      "source": [
        "part1 = c2.sum(c1.sum(c2))\n",
        "print(part1)\n",
        "part2 = c2.sum(c3.sum(c2))\n",
        "print(part2)\n",
        "\n",
        "part1.equal_than(part2)"
      ],
      "metadata": {
        "colab": {
          "base_uri": "https://localhost:8080/"
        },
        "id": "UBRf21YeySDd",
        "outputId": "2aa30bcb-5315-44a2-a0a9-a39eaf0191dc"
      },
      "execution_count": 18,
      "outputs": [
        {
          "output_type": "stream",
          "name": "stdout",
          "text": [
            "Complex: (5, -1)\n",
            "Complex: (6, -4)\n"
          ]
        },
        {
          "output_type": "execute_result",
          "data": {
            "text/plain": [
              "False"
            ]
          },
          "metadata": {},
          "execution_count": 18
        }
      ]
    },
    {
      "cell_type": "markdown",
      "source": [
        "However, the best solution is to uses magic methods. Let's implement  __add__ and __eq__ methods ('+' and '==' operators, respectively)"
      ],
      "metadata": {
        "id": "o9WOsgY5yjJT"
      }
    },
    {
      "cell_type": "code",
      "source": [
        "class Complex:\n",
        "    def __init__(self, a: float, b: float) -> None:\n",
        "        self.a = a\n",
        "        self.b = b\n",
        "\n",
        "    def __str__(self) -> str:\n",
        "        # In this example, we will use a very simple version for str\n",
        "        return \"Complex: (\" + str(self.a) + \", \" + str(self.b) + \")\"\n",
        "\n",
        "    # def sum(self, other_complex: \"Complex\") -> \"Complex\":\n",
        "    def __add__(self, other_complex: \"Complex\") -> \"Complex\":\n",
        "        return Complex(self.a + other_complex.a, self.b + other_complex.b)\n",
        "\n",
        "    def __eq__(self, other_complex: \"Complex\") -> bool:\n",
        "        return (self.a == other_complex.a) and (self.b == other_complex.b)\n",
        "\n",
        "c1 = Complex(3,5)\n",
        "print(c1)\n",
        "c2 = Complex(1, -3)\n",
        "print(c2)\n",
        "\n",
        "c3 = c1.__add__(c2)\n",
        "print(\"{} plus {} is {}\".format(c1,c2,c3))\n",
        "c3 = c1+c2\n",
        "print(\"{} plus {} is {}\".format(c1,c2,c3))\n",
        "\n",
        "\n",
        "print(\"{} is equal to {}: {}\".format(c1,c2,c1.__eq__(c2)))\n",
        "print(\"{} is equal to {}: {}\".format(c1,c2,c1==c2))\n"
      ],
      "metadata": {
        "colab": {
          "base_uri": "https://localhost:8080/"
        },
        "id": "e3LTVRhjyw8X",
        "outputId": "55f43a7a-5f50-4dbe-ae6a-84af80b6e1a6"
      },
      "execution_count": 20,
      "outputs": [
        {
          "output_type": "stream",
          "name": "stdout",
          "text": [
            "Complex: (3, 5)\n",
            "Complex: (1, -3)\n",
            "Complex: (3, 5) plus Complex: (1, -3) is Complex: (4, 2)\n",
            "Complex: (3, 5) plus Complex: (1, -3) is Complex: (4, 2)\n",
            "Complex: (3, 5) is equal to Complex: (1, -3): False\n",
            "Complex: (3, 5) is equal to Complex: (1, -3): False\n"
          ]
        }
      ]
    },
    {
      "cell_type": "markdown",
      "source": [
        "Thanks to these magical methods, the above expression will be easier for any programmer to understand:"
      ],
      "metadata": {
        "id": "d6V_Y3YszJRo"
      }
    },
    {
      "cell_type": "code",
      "source": [
        "c2+(c1+c2)==c2+(c3+c2)\n"
      ],
      "metadata": {
        "colab": {
          "base_uri": "https://localhost:8080/"
        },
        "id": "crkDaGk9zMOw",
        "outputId": "152efd75-d15e-4018-8969-f091d3f5feef"
      },
      "execution_count": 21,
      "outputs": [
        {
          "output_type": "execute_result",
          "data": {
            "text/plain": [
              "False"
            ]
          },
          "metadata": {},
          "execution_count": 21
        }
      ]
    },
    {
      "cell_type": "markdown",
      "source": [
        "You can read the full list of magic methods in Python: \n",
        "https://docs.python.org/3/reference/datamodel.html#special-method-names"
      ],
      "metadata": {
        "id": "YLEM5fCMzx-p"
      }
    }
  ]
}