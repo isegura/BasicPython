{
  "nbformat": 4,
  "nbformat_minor": 0,
  "metadata": {
    "colab": {
      "name": "2-basicdatastructures.ipynb",
      "provenance": [],
      "collapsed_sections": [],
      "authorship_tag": "ABX9TyNsdO1hbPu5Z+gyH5qMGK5s",
      "include_colab_link": true
    },
    "kernelspec": {
      "name": "python3",
      "display_name": "Python 3"
    }
  },
  "cells": [
    {
      "cell_type": "markdown",
      "metadata": {
        "id": "view-in-github",
        "colab_type": "text"
      },
      "source": [
        "<a href=\"https://colab.research.google.com/github/isegura/BasicPython/blob/main/2_basicdatastructures.ipynb\" target=\"_parent\"><img src=\"https://colab.research.google.com/assets/colab-badge.svg\" alt=\"Open In Colab\"/></a>"
      ]
    },
    {
      "cell_type": "markdown",
      "metadata": {
        "id": "J3KAxejXhS-L"
      },
      "source": [
        "# Basic Data Structures in Python \n",
        "\n",
        "Python provides several predefined data types to store sequences. These are lists, \n",
        "\n",
        "\n",
        "## Lists\n",
        "Lists can be used to store any number of elements (which could have different types). To create a list, we place all the elements (items) separated by commas inside a square bracket [].\n",
        "\n",
        "For example:"
      ]
    },
    {
      "cell_type": "code",
      "metadata": {
        "id": "39On9M4ZhN7f",
        "colab": {
          "base_uri": "https://localhost:8080/",
          "height": 51
        },
        "outputId": "d1d46785-d47c-4a96-8930-871d2450bff9"
      },
      "source": [
        "# empty list\n",
        "l = []\n",
        "\n",
        "# list of integers\n",
        "l = [1, 2, 3]\n",
        "print(l)\n",
        "\n",
        "# list with elements of different types\n",
        "l = [5, True, \"Hi students\", -3.5]\n",
        "print(l)"
      ],
      "execution_count": null,
      "outputs": [
        {
          "output_type": "stream",
          "text": [
            "[1, 2, 3]\n",
            "[5, True, 'Hi students', -3.5]\n"
          ],
          "name": "stdout"
        }
      ]
    },
    {
      "cell_type": "markdown",
      "metadata": {
        "id": "MbnhwlFtjrsc"
      },
      "source": [
        "To access an element of the list, you have to indicate the index (position) of the element. Remmember that the index of the first element is 0, while the last element is len(l)-1.\n",
        "\n",
        "You can also use negative indexes: -1 refers to the last element, -2 to the second last item and so on.\n",
        "\n"
      ]
    },
    {
      "cell_type": "code",
      "metadata": {
        "id": "4RhuTLlzj6SZ",
        "colab": {
          "base_uri": "https://localhost:8080/",
          "height": 102
        },
        "outputId": "cdad6830-127e-4e82-b964-61fc750b20e3"
      },
      "source": [
        "l=['Spain','Italy','USA','UK','China']\n",
        "print('l[0]=',l[0])\n",
        "print('l[2]=',l[2])\n",
        "print('l[len(l)-1]=',l[len(l)-1])\n",
        "\n",
        "print('l[-1]=',l[-1])\n",
        "print('l[-2]=',l[-2])\n"
      ],
      "execution_count": null,
      "outputs": [
        {
          "output_type": "stream",
          "text": [
            "l[0]= Spain\n",
            "l[2]= USA\n",
            "l[len(l)-1]= China\n",
            "l[-1]= China\n",
            "l[-2]= UK\n"
          ],
          "name": "stdout"
        }
      ]
    },
    {
      "cell_type": "markdown",
      "metadata": {
        "id": "wdWE7ZJtlNIe"
      },
      "source": [
        "The elements of a list can be modified. For example, in the previous list, we can replace 'Spain' to 'Germany':"
      ]
    },
    {
      "cell_type": "code",
      "metadata": {
        "id": "Fdu2dvE_lKqn",
        "colab": {
          "base_uri": "https://localhost:8080/",
          "height": 34
        },
        "outputId": "5f28355e-94ce-4aac-f186-9944c9437d10"
      },
      "source": [
        "l[0]='Germany'\n",
        "\n",
        "print(l)"
      ],
      "execution_count": null,
      "outputs": [
        {
          "output_type": "stream",
          "text": [
            "['Germany', 'Italy', 'USA', 'UK', 'China']\n"
          ],
          "name": "stdout"
        }
      ]
    },
    {
      "cell_type": "markdown",
      "metadata": {
        "id": "4Yr_3YygmXGa"
      },
      "source": [
        "### Adding elements\n",
        "\n",
        "To add new elements, you can use the function **append**, which add the element at the end of the list:"
      ]
    },
    {
      "cell_type": "code",
      "metadata": {
        "id": "PTCECEeUmapL",
        "colab": {
          "base_uri": "https://localhost:8080/",
          "height": 34
        },
        "outputId": "d206ef8a-b321-41cd-8ddb-e5ea4580f0c7"
      },
      "source": [
        "l.append('France')\n",
        "\n",
        "#This will show ['Germany', 'Italy', 'USA', 'UK', 'China', 'France']\n",
        "print(l)"
      ],
      "execution_count": null,
      "outputs": [
        {
          "output_type": "stream",
          "text": [
            "['Germany', 'Italy', 'USA', 'UK', 'China', 'France']\n"
          ],
          "name": "stdout"
        }
      ]
    },
    {
      "cell_type": "markdown",
      "metadata": {
        "id": "Y56dDTn8qkyx"
      },
      "source": [
        "The **insert** function allows us to insert an element into a specific position (index). The syntax of the insert() method is **list.insert(i, elem)**, where  elem is inserted to the list at the ith index. All the elements after elem are shifted to the right.\n",
        " "
      ]
    },
    {
      "cell_type": "code",
      "metadata": {
        "id": "KXb6AtL9qqrc",
        "colab": {
          "base_uri": "https://localhost:8080/",
          "height": 51
        },
        "outputId": "d866fec3-673a-40a5-da24-0f7009a4676a"
      },
      "source": [
        "l.insert(0,'Spain')\n",
        "print(l)\n",
        "l.insert(3,'Poland')\n",
        "print(l)\n"
      ],
      "execution_count": null,
      "outputs": [
        {
          "output_type": "stream",
          "text": [
            "['Spain', 'Spain', 'Germany', 'Italy', 'USA', 'UK', 'China', 'France']\n",
            "['Spain', 'Spain', 'Germany', 'Poland', 'Italy', 'USA', 'UK', 'China', 'France']\n"
          ],
          "name": "stdout"
        }
      ]
    },
    {
      "cell_type": "markdown",
      "metadata": {
        "id": "DZy0qB4amsEi"
      },
      "source": [
        "The function **extend** also allows you to concatanate two lists. For example:\n"
      ]
    },
    {
      "cell_type": "code",
      "metadata": {
        "id": "Lb0i8Cebm0L0",
        "colab": {
          "base_uri": "https://localhost:8080/",
          "height": 34
        },
        "outputId": "20970570-b847-4c05-c833-9968da6b5ad0"
      },
      "source": [
        "l1=[3,5,6]\n",
        "l2=[0,3]\n",
        "\n",
        "l1.extend(l2)\n",
        "#It will show [3, 5, 6, 0, 3]\n",
        "print(l1)"
      ],
      "execution_count": null,
      "outputs": [
        {
          "output_type": "stream",
          "text": [
            "[3, 5, 6, 0, 3]\n"
          ],
          "name": "stdout"
        }
      ]
    },
    {
      "cell_type": "markdown",
      "metadata": {
        "id": "2HxaMeiMnGAf"
      },
      "source": [
        "**Exercise**: Compare the functions extend and append on a list."
      ]
    },
    {
      "cell_type": "markdown",
      "metadata": {
        "id": "Xws6TGv1nWGb"
      },
      "source": [
        "\n",
        "### Removing elements\n",
        "\n",
        "To remove elements of the list, there are different methods. \n",
        "For example, the function **clear** allows you to remove all elements:\n"
      ]
    },
    {
      "cell_type": "code",
      "metadata": {
        "id": "8SweKWMQn-Nc",
        "colab": {
          "base_uri": "https://localhost:8080/",
          "height": 51
        },
        "outputId": "5f816b2b-fd15-4722-c75b-6c85ee872363"
      },
      "source": [
        "l=[3,6,7,8]\n",
        "print(l)\n",
        "l.clear()\n",
        "print(l)"
      ],
      "execution_count": null,
      "outputs": [
        {
          "output_type": "stream",
          "text": [
            "[3, 6, 7, 8]\n",
            "[]\n"
          ],
          "name": "stdout"
        }
      ]
    },
    {
      "cell_type": "markdown",
      "metadata": {
        "id": "M2dV5J6BoTCc"
      },
      "source": [
        "To remove a specific element, you can use the function **remove** as follows:\n"
      ]
    },
    {
      "cell_type": "code",
      "metadata": {
        "id": "qU0oPizcoYJD",
        "colab": {
          "base_uri": "https://localhost:8080/",
          "height": 34
        },
        "outputId": "b53c2a6b-27b3-4d6e-b070-903d68e6b45e"
      },
      "source": [
        "l=[5,2,3,0,5,12,-3]\n",
        "l.remove(2)\n",
        "print(l)\n",
        "\n"
      ],
      "execution_count": null,
      "outputs": [
        {
          "output_type": "stream",
          "text": [
            "[5, 3, 0, 5, 12, -3]\n"
          ],
          "name": "stdout"
        }
      ]
    },
    {
      "cell_type": "markdown",
      "metadata": {
        "id": "aK83Qs8Wo_h1"
      },
      "source": [
        "If a list contains duplicate elements, the remove() method only removes the first  element.\n",
        "\n"
      ]
    },
    {
      "cell_type": "code",
      "metadata": {
        "id": "QNimy700pAiV",
        "colab": {
          "base_uri": "https://localhost:8080/",
          "height": 34
        },
        "outputId": "333c224e-069e-463c-be12-75242d56e067"
      },
      "source": [
        "l=[5,2,3,0,5,12,-3]\n",
        "l.remove(5)\n",
        "print(l)\n"
      ],
      "execution_count": null,
      "outputs": [
        {
          "output_type": "stream",
          "text": [
            "[2, 3, 0, 5, 12, -3]\n"
          ],
          "name": "stdout"
        }
      ]
    },
    {
      "cell_type": "markdown",
      "metadata": {
        "id": "MEioVj7JoxPY"
      },
      "source": [
        "If you try to remove an element that does not exist into the list, it will throw and error:"
      ]
    },
    {
      "cell_type": "code",
      "metadata": {
        "id": "60j6gkiQo282",
        "colab": {
          "base_uri": "https://localhost:8080/",
          "height": 164
        },
        "outputId": "62d3bd99-a095-4c0f-fb09-a7780c8b010a"
      },
      "source": [
        "l.remove(100)"
      ],
      "execution_count": null,
      "outputs": [
        {
          "output_type": "error",
          "ename": "ValueError",
          "evalue": "ignored",
          "traceback": [
            "\u001b[0;31m---------------------------------------------------------------------------\u001b[0m",
            "\u001b[0;31mValueError\u001b[0m                                Traceback (most recent call last)",
            "\u001b[0;32m<ipython-input-23-97ac9c8b213c>\u001b[0m in \u001b[0;36m<module>\u001b[0;34m()\u001b[0m\n\u001b[0;32m----> 1\u001b[0;31m \u001b[0ml\u001b[0m\u001b[0;34m.\u001b[0m\u001b[0mremove\u001b[0m\u001b[0;34m(\u001b[0m\u001b[0;36m100\u001b[0m\u001b[0;34m)\u001b[0m\u001b[0;34m\u001b[0m\u001b[0;34m\u001b[0m\u001b[0m\n\u001b[0m",
            "\u001b[0;31mValueError\u001b[0m: list.remove(x): x not in list"
          ]
        }
      ]
    },
    {
      "cell_type": "markdown",
      "metadata": {
        "id": "U-Z_uV2wpJg_"
      },
      "source": [
        "To remove elements based on their indexes, you can use the pop() function.\n",
        "\n",
        "If you do not give any index, the pop() function will remove the last element of the list."
      ]
    },
    {
      "cell_type": "code",
      "metadata": {
        "id": "4ng3pEVmpSs0",
        "colab": {
          "base_uri": "https://localhost:8080/",
          "height": 68
        },
        "outputId": "2517a0cf-fda0-472c-eb20-7e8ece8e0cb8"
      },
      "source": [
        "l=[5,2,3,0,5,12,-3]\n",
        "l.pop()\n",
        "#it will show [5, 2, 3, 0, 5, 12]\n",
        "print(l)\n",
        "\n",
        "l.pop(0)\n",
        "#it will show [2, 3, 0, 5, 12]\n",
        "print(l)\n",
        "\n",
        "l.pop(3)\n",
        "#it will show [2, 3, 0, 12]\n",
        "print(l)"
      ],
      "execution_count": null,
      "outputs": [
        {
          "output_type": "stream",
          "text": [
            "[5, 2, 3, 0, 5, 12]\n",
            "[2, 3, 0, 5, 12]\n",
            "[2, 3, 0, 12]\n"
          ],
          "name": "stdout"
        }
      ]
    },
    {
      "cell_type": "markdown",
      "metadata": {
        "id": "0mlTBexLpPwj"
      },
      "source": [
        "###Searching elements\n",
        "\n",
        "The index function() returns the index of an element\n"
      ]
    },
    {
      "cell_type": "code",
      "metadata": {
        "id": "tqXJIRJwp0qS",
        "colab": {
          "base_uri": "https://localhost:8080/",
          "height": 34
        },
        "outputId": "48420b2a-de55-412e-883d-5d5e362b1c34"
      },
      "source": [
        "l=[2, 3, 0, 12]\n",
        "print('index of 3 is: ',l.index(3))\n",
        "\n"
      ],
      "execution_count": null,
      "outputs": [
        {
          "output_type": "stream",
          "text": [
            "index of 3 is:  1\n"
          ],
          "name": "stdout"
        }
      ]
    },
    {
      "cell_type": "markdown",
      "metadata": {
        "id": "nDnrvscZqBP4"
      },
      "source": [
        "If the element does not exist, the index function will throw an error:"
      ]
    },
    {
      "cell_type": "code",
      "metadata": {
        "id": "-FEY-BDnqFOx",
        "colab": {
          "base_uri": "https://localhost:8080/",
          "height": 164
        },
        "outputId": "dfe97298-f540-4454-8151-e42842e44f9c"
      },
      "source": [
        "print('index of 5 is: ',l.index(5))\n"
      ],
      "execution_count": null,
      "outputs": [
        {
          "output_type": "error",
          "ename": "ValueError",
          "evalue": "ignored",
          "traceback": [
            "\u001b[0;31m---------------------------------------------------------------------------\u001b[0m",
            "\u001b[0;31mValueError\u001b[0m                                Traceback (most recent call last)",
            "\u001b[0;32m<ipython-input-32-a782d8a3e151>\u001b[0m in \u001b[0;36m<module>\u001b[0;34m()\u001b[0m\n\u001b[0;32m----> 1\u001b[0;31m \u001b[0mprint\u001b[0m\u001b[0;34m(\u001b[0m\u001b[0;34m'index of 5 is: '\u001b[0m\u001b[0;34m,\u001b[0m\u001b[0ml\u001b[0m\u001b[0;34m.\u001b[0m\u001b[0mindex\u001b[0m\u001b[0;34m(\u001b[0m\u001b[0;36m5\u001b[0m\u001b[0;34m)\u001b[0m\u001b[0;34m)\u001b[0m\u001b[0;34m\u001b[0m\u001b[0;34m\u001b[0m\u001b[0m\n\u001b[0m",
            "\u001b[0;31mValueError\u001b[0m: 5 is not in list"
          ]
        }
      ]
    },
    {
      "cell_type": "markdown",
      "metadata": {
        "id": "L5qmsX8AqJZ-"
      },
      "source": [
        "The **count** function counts the occurrences of an element in a list. If the element does not exist, the function will return 0."
      ]
    },
    {
      "cell_type": "code",
      "metadata": {
        "id": "bqguWrCoqInW",
        "colab": {
          "base_uri": "https://localhost:8080/",
          "height": 51
        },
        "outputId": "e8125261-a155-4f95-f9f2-cad0d4eea236"
      },
      "source": [
        "l=[2, 3, 0, 12,3,5,3]\n",
        "print('frecuency of 3:',l.count(3))\n",
        "print('frecuency of 100:',l.count(100))\n",
        "\n"
      ],
      "execution_count": null,
      "outputs": [
        {
          "output_type": "stream",
          "text": [
            "frecuency of 3: 3\n",
            "frecuency of 100: 0\n"
          ],
          "name": "stdout"
        }
      ]
    },
    {
      "cell_type": "markdown",
      "metadata": {
        "id": "q1Xm0YCqrGye"
      },
      "source": [
        "### Sorting the list\n",
        "\n",
        "You can sort the list by using the **sort** function:\n"
      ]
    },
    {
      "cell_type": "code",
      "metadata": {
        "id": "LtPweOjArMUU",
        "colab": {
          "base_uri": "https://localhost:8080/",
          "height": 51
        },
        "outputId": "658ad6c1-6155-4a85-962e-ffab9cfa31b3"
      },
      "source": [
        "l=[15,1,2,3,5,0,7,22]\n",
        "print(l)\n",
        "l.sort()\n",
        "print(l)"
      ],
      "execution_count": null,
      "outputs": [
        {
          "output_type": "stream",
          "text": [
            "[15, 1, 2, 3, 5, 0, 7, 22]\n",
            "[0, 1, 2, 3, 5, 7, 15, 22]\n"
          ],
          "name": "stdout"
        }
      ]
    },
    {
      "cell_type": "markdown",
      "metadata": {
        "id": "VP6m-OdHrnVA"
      },
      "source": [
        "By default the list is sorted in ascending order. You can obtain the descending sorted by using the parameter:\n"
      ]
    },
    {
      "cell_type": "code",
      "metadata": {
        "id": "PGAs27jhruah",
        "colab": {
          "base_uri": "https://localhost:8080/",
          "height": 51
        },
        "outputId": "254d53cc-d66d-4c2c-9274-f57cc381d6a5"
      },
      "source": [
        "l=[15,1,2,3,5,0,7,22]\n",
        "print(l)\n",
        "l.sort(reverse=True)\n",
        "print(l)\n"
      ],
      "execution_count": null,
      "outputs": [
        {
          "output_type": "stream",
          "text": [
            "[15, 1, 2, 3, 5, 0, 7, 22]\n",
            "[22, 15, 7, 5, 3, 2, 1, 0]\n"
          ],
          "name": "stdout"
        }
      ]
    },
    {
      "cell_type": "markdown",
      "metadata": {
        "id": "5MzoyXHZr8wq"
      },
      "source": [
        "The sort() funtion also accepts a key function as an optional parameter. Based on the results of the key function, you can sort the given list.\n",
        "\n"
      ]
    },
    {
      "cell_type": "code",
      "metadata": {
        "id": "c6nvn6zSr9mS",
        "colab": {
          "base_uri": "https://localhost:8080/",
          "height": 34
        },
        "outputId": "0566f6ca-eccf-451b-85b5-d07c72393140"
      },
      "source": [
        "# take second element for sort\n",
        "def get2nd(elem):\n",
        "    return elem[1]\n",
        "\n",
        "l = [(2, 2), (3, 4), (4, 1), (1, 3)]\n",
        "\n",
        "# sort list with key\n",
        "l.sort(key=get2nd)\n",
        "\n",
        "# print list\n",
        "print('Sorted list:', l)"
      ],
      "execution_count": null,
      "outputs": [
        {
          "output_type": "stream",
          "text": [
            "Sorted list: [(4, 1), (2, 2), (1, 3), (3, 4)]\n"
          ],
          "name": "stdout"
        }
      ]
    },
    {
      "cell_type": "markdown",
      "metadata": {
        "id": "emR8IyyVrWe5"
      },
      "source": [
        "If you don't want to modify the list, you can use the **sorted** function that will return a new sorted list:\n"
      ]
    },
    {
      "cell_type": "code",
      "metadata": {
        "id": "zrBZ30e_rdqO",
        "colab": {
          "base_uri": "https://localhost:8080/",
          "height": 51
        },
        "outputId": "175f5c71-2829-4503-c795-451299cec997"
      },
      "source": [
        "l=[15,1,2,3,5,0,7,22]\n",
        "print(l)\n",
        "newlist=sorted(l)\n",
        "print(l,newlist)"
      ],
      "execution_count": null,
      "outputs": [
        {
          "output_type": "stream",
          "text": [
            "[15, 1, 2, 3, 5, 0, 7, 22]\n",
            "[15, 1, 2, 3, 5, 0, 7, 22] [0, 1, 2, 3, 5, 7, 15, 22]\n"
          ],
          "name": "stdout"
        }
      ]
    },
    {
      "cell_type": "markdown",
      "metadata": {
        "id": "uIvcmyUfsV-m"
      },
      "source": [
        "### Coping lists\n",
        "\n",
        "The operator '=' allows us to create a new list from another list. However, both lists are actually the same list\n"
      ]
    },
    {
      "cell_type": "code",
      "metadata": {
        "id": "6_fnXqG-sjZ_",
        "colab": {
          "base_uri": "https://localhost:8080/",
          "height": 51
        },
        "outputId": "0d569707-3e72-4be8-9568-ad3ebc753306"
      },
      "source": [
        "l1 = [1, 2, 3]\n",
        "l2 = l1\n",
        "\n",
        "# add an element to list\n",
        "l2.append(4)\n",
        "\n",
        "print('l2:', l2)\n",
        "print('l1:', l1)"
      ],
      "execution_count": null,
      "outputs": [
        {
          "output_type": "stream",
          "text": [
            "l2: [1, 2, 3, 4]\n",
            "l1: [1, 2, 3, 4]\n"
          ],
          "name": "stdout"
        }
      ]
    },
    {
      "cell_type": "markdown",
      "metadata": {
        "id": "Rv-XubD8s-p6"
      },
      "source": [
        "To create a different list with the same values of the input list, you should use the **copy** function. The following example shows that the two lists are different."
      ]
    },
    {
      "cell_type": "code",
      "metadata": {
        "id": "MzKO4zWOtFYl",
        "colab": {
          "base_uri": "https://localhost:8080/",
          "height": 51
        },
        "outputId": "31bf847d-509a-4a90-8c1d-d787a378063e"
      },
      "source": [
        "l1 = [1, 2, 3]\n",
        "l2 = l1.copy()\n",
        "\n",
        "# add an element to list\n",
        "l2.append(4)\n",
        "\n",
        "print('l2:', l2)\n",
        "print('l1:', l1)"
      ],
      "execution_count": null,
      "outputs": [
        {
          "output_type": "stream",
          "text": [
            "l2: [1, 2, 3, 4]\n",
            "l1: [1, 2, 3]\n"
          ],
          "name": "stdout"
        }
      ]
    },
    {
      "cell_type": "markdown",
      "metadata": {
        "id": "c0LO-YXitXV3"
      },
      "source": [
        "### Reversing lists\n",
        "\n",
        "The **reverse** function allows us to reverse a list"
      ]
    },
    {
      "cell_type": "code",
      "metadata": {
        "id": "J8NG5PQAtgJ9",
        "colab": {
          "base_uri": "https://localhost:8080/",
          "height": 51
        },
        "outputId": "689f2e86-d5e1-4518-90b0-032f58019b29"
      },
      "source": [
        "l = [1, 2, 3]\n",
        "print('Original List:', l)\n",
        "\n",
        "l.reverse()\n",
        "\n",
        "# updated list\n",
        "print('Updated List:', l)"
      ],
      "execution_count": null,
      "outputs": [
        {
          "output_type": "stream",
          "text": [
            "Original List: [1, 2, 3]\n",
            "Updated List: [3, 2, 1]\n"
          ],
          "name": "stdout"
        }
      ]
    },
    {
      "cell_type": "markdown",
      "metadata": {
        "id": "o19ePpJ_tskL"
      },
      "source": [
        "### Slicing \n",
        "\n",
        "You can obtain a sublist from an input list by using slicing.\n",
        "\n",
        "\n",
        "In a slicing, the start position start and end position stop of the selection are written as [start:stop].\n",
        "\n",
        "The range start <= x <stop is selected. Note that the item at start is included, but the item at stop is not included.\n",
        "\n"
      ]
    },
    {
      "cell_type": "code",
      "metadata": {
        "id": "KZ7Rd8xVt86f",
        "colab": {
          "base_uri": "https://localhost:8080/",
          "height": 51
        },
        "outputId": "8d64916b-4eb4-4f9d-ec4b-a712916b378c"
      },
      "source": [
        "l = [0, 10, 20, 30, 40, 50, 60]\n",
        "print(l)\n",
        "# [0, 10, 20, 30, 40, 50, 60]\n",
        "\n",
        "print(l[2:5])\n",
        "# [20, 30, 40]"
      ],
      "execution_count": null,
      "outputs": [
        {
          "output_type": "stream",
          "text": [
            "[0, 10, 20, 30, 40, 50, 60]\n",
            "[20, 30, 40]\n"
          ],
          "name": "stdout"
        }
      ]
    },
    {
      "cell_type": "markdown",
      "metadata": {
        "id": "wHXcNzbvk7zd"
      },
      "source": [
        "# Tuples\n",
        "\n",
        "Tuples are as lists except their elements cannot be changed  once the tuple is defined. In other words, list is mutable whereas tuple is immutable.\n",
        "\n",
        "To create a tuple, we place all the elements (items) separated by commas inside a parenthesis (). \n",
        "\n"
      ]
    },
    {
      "cell_type": "code",
      "metadata": {
        "id": "7YsBqQxclo9N",
        "colab": {
          "base_uri": "https://localhost:8080/",
          "height": 68
        },
        "outputId": "158429b3-41a7-4f9c-d223-9ebd466ea003"
      },
      "source": [
        "colors=('red','blue','green','yellow')\n",
        "print(colors)\n",
        "print('colors[0]=',colors[0])\n",
        "print('colors[-1]=',colors[-1])\n",
        "\n"
      ],
      "execution_count": null,
      "outputs": [
        {
          "output_type": "stream",
          "text": [
            "('red', 'blue', 'green', 'yellow')\n",
            "colors[0]= red\n",
            "colors[-1]= yellow\n"
          ],
          "name": "stdout"
        }
      ]
    },
    {
      "cell_type": "markdown",
      "metadata": {
        "id": "MAONPCeCmInq"
      },
      "source": [
        "The following cell will throw the error ''tuple' object does not support item assignment'"
      ]
    },
    {
      "cell_type": "code",
      "metadata": {
        "id": "libDF4yJmHvQ",
        "colab": {
          "base_uri": "https://localhost:8080/",
          "height": 164
        },
        "outputId": "a0b55ab1-d9f5-4b8e-c848-bcd463c86704"
      },
      "source": [
        "colors[0]='black'"
      ],
      "execution_count": null,
      "outputs": [
        {
          "output_type": "error",
          "ename": "TypeError",
          "evalue": "ignored",
          "traceback": [
            "\u001b[0;31m---------------------------------------------------------------------------\u001b[0m",
            "\u001b[0;31mTypeError\u001b[0m                                 Traceback (most recent call last)",
            "\u001b[0;32m<ipython-input-12-b118571b9871>\u001b[0m in \u001b[0;36m<module>\u001b[0;34m()\u001b[0m\n\u001b[0;32m----> 1\u001b[0;31m \u001b[0mcolors\u001b[0m\u001b[0;34m[\u001b[0m\u001b[0;36m0\u001b[0m\u001b[0;34m]\u001b[0m\u001b[0;34m=\u001b[0m\u001b[0;34m'black'\u001b[0m\u001b[0;34m\u001b[0m\u001b[0;34m\u001b[0m\u001b[0m\n\u001b[0m",
            "\u001b[0;31mTypeError\u001b[0m: 'tuple' object does not support item assignment"
          ]
        }
      ]
    },
    {
      "cell_type": "markdown",
      "metadata": {
        "id": "5yW29zj1kKwY"
      },
      "source": [
        "## Sets\n",
        "\n",
        "A set is a collection of unique objects. They allow to create lists that only have unique values. "
      ]
    },
    {
      "cell_type": "markdown",
      "metadata": {
        "id": "7iThUVQ5kfPw"
      },
      "source": [
        ""
      ]
    },
    {
      "cell_type": "code",
      "metadata": {
        "colab": {
          "base_uri": "https://localhost:8080/"
        },
        "id": "J2b3XZeZkk3O",
        "outputId": "892ba5d9-1d21-407d-ccc0-3eaaff1f9e09"
      },
      "source": [
        "setA=set('abcede')\n",
        "print(setA)"
      ],
      "execution_count": 6,
      "outputs": [
        {
          "output_type": "stream",
          "text": [
            "{'a', 'e', 'c', 'd', 'b'}\n"
          ],
          "name": "stdout"
        }
      ]
    },
    {
      "cell_type": "code",
      "metadata": {
        "colab": {
          "base_uri": "https://localhost:8080/"
        },
        "id": "H3_ZKu6Lk7dq",
        "outputId": "630627a8-39f1-462f-880a-ef05217e9f04"
      },
      "source": [
        "setB=set('hello')\n",
        "print(setB)"
      ],
      "execution_count": 8,
      "outputs": [
        {
          "output_type": "stream",
          "text": [
            "{'e', 'l', 'o', 'h'}\n"
          ],
          "name": "stdout"
        }
      ]
    },
    {
      "cell_type": "code",
      "metadata": {
        "colab": {
          "base_uri": "https://localhost:8080/"
        },
        "id": "3pdMp_4alAkX",
        "outputId": "2c320074-c402-4d5f-9921-6bdfa97d7867"
      },
      "source": [
        "# All the elements in setA but not in setB\n",
        "print(setA-setB)"
      ],
      "execution_count": 9,
      "outputs": [
        {
          "output_type": "stream",
          "text": [
            "{'a', 'c', 'd', 'b'}\n"
          ],
          "name": "stdout"
        }
      ]
    },
    {
      "cell_type": "code",
      "metadata": {
        "colab": {
          "base_uri": "https://localhost:8080/"
        },
        "id": "s_zIq0e1lN1c",
        "outputId": "a9a9fc87-0b0c-43f7-de44-854b6e4534bd"
      },
      "source": [
        "# Unique elements in setA or setB or both\n",
        "print(setA|setB)"
      ],
      "execution_count": 12,
      "outputs": [
        {
          "output_type": "stream",
          "text": [
            "{'l', 'a', 'o', 'd', 'b', 'e', 'c', 'h'}\n"
          ],
          "name": "stdout"
        }
      ]
    },
    {
      "cell_type": "code",
      "metadata": {
        "id": "oy4SjzKhlcdI"
      },
      "source": [
        "#elements that are in both setA and setB\n",
        "print(setA&setB)"
      ],
      "execution_count": null,
      "outputs": []
    },
    {
      "cell_type": "markdown",
      "metadata": {
        "id": "jyN-fDKminO3"
      },
      "source": [
        "## Dictionaries\n",
        "\n",
        "Dictionaries are made up of key-value pairs. key is used to identify the item and the value holds as the name suggests, the value of the item.\n"
      ]
    },
    {
      "cell_type": "code",
      "metadata": {
        "colab": {
          "base_uri": "https://localhost:8080/"
        },
        "id": "fR2rWtoZislv",
        "outputId": "f0bd4d30-9ce0-4f9d-b8fb-778a5ee90706"
      },
      "source": [
        "emails = {'Isabel':'isegura@inf.uc3m.es', 'Harith':'haljumai@inf.uc3m.es', 'MJ':'maluciam@inf.uc3m.es', 'Cristobal':'ccolon@inf.uc3m.es'}\n",
        "print(emails)\n",
        "#you can directly access some element of the dictionary by using its key\n",
        "print('email of Isabel',emails['Isabel'])\n",
        "print('keys of emails', emails.keys())\n",
        "print('values of emails', emails.values())\n",
        "\n",
        "#to remove an element you can use the operaction 'del'\n",
        "del emails['MJ']\n",
        "print(emails)\n",
        "print('length of the dictionary', len(emails))\n"
      ],
      "execution_count": 3,
      "outputs": [
        {
          "output_type": "stream",
          "text": [
            "{'Isabel': 'isegura@inf.uc3m.es', 'Harith': 'haljumai@inf.uc3m.es', 'MJ': 'maluciam@inf.uc3m.es', 'Cristobal': 'ccolon@inf.uc3m.es'}\n",
            "email of Isabel isegura@inf.uc3m.es\n",
            "keys of emails dict_keys(['Isabel', 'Harith', 'MJ', 'Cristobal'])\n",
            "values of emails dict_values(['isegura@inf.uc3m.es', 'haljumai@inf.uc3m.es', 'maluciam@inf.uc3m.es', 'ccolon@inf.uc3m.es'])\n",
            "{'Isabel': 'isegura@inf.uc3m.es', 'Harith': 'haljumai@inf.uc3m.es', 'Cristobal': 'ccolon@inf.uc3m.es'}\n",
            "length of the dictionary 3\n"
          ],
          "name": "stdout"
        }
      ]
    }
  ]
}