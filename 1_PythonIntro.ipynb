{
  "nbformat": 4,
  "nbformat_minor": 0,
  "metadata": {
    "colab": {
      "name": "1-PythonIntro.ipynb",
      "provenance": [],
      "collapsed_sections": [],
      "authorship_tag": "ABX9TyPNIdXswQlg9tY8Gaz2+sb1",
      "include_colab_link": true
    },
    "kernelspec": {
      "name": "python3",
      "display_name": "Python 3"
    }
  },
  "cells": [
    {
      "cell_type": "markdown",
      "metadata": {
        "id": "view-in-github",
        "colab_type": "text"
      },
      "source": [
        "<a href=\"https://colab.research.google.com/github/isegura/BasicPython/blob/main/1_PythonIntro.ipynb\" target=\"_parent\"><img src=\"https://colab.research.google.com/assets/colab-badge.svg\" alt=\"Open In Colab\"/></a>"
      ]
    },
    {
      "cell_type": "markdown",
      "metadata": {
        "id": "MZIE2mc7XfSi"
      },
      "source": [
        "# Python Introduction\n",
        "\n",
        "## Variables and Literals\n",
        "\n",
        "A variable is a named location used to store data in the memory. For example, in the following cell, a is a variable with value 5. \n",
        "\n",
        "\n",
        "\n"
      ]
    },
    {
      "cell_type": "code",
      "metadata": {
        "id": "JuFHXuLFXb-d"
      },
      "source": [
        "a = 5  \n"
      ],
      "execution_count": null,
      "outputs": []
    },
    {
      "cell_type": "markdown",
      "metadata": {
        "id": "LOqTconqYJ3D"
      },
      "source": [
        "In Python, we do not need to define variable type. For example, we can do this:\n"
      ]
    },
    {
      "cell_type": "code",
      "metadata": {
        "id": "85DgcGdFYJH8",
        "colab": {
          "base_uri": "https://localhost:8080/",
          "height": 51
        },
        "outputId": "dd4619f6-686f-4c26-e136-7be6393ce80b"
      },
      "source": [
        "a=5\n",
        "print(a,type(a))\n",
        "a='Hi students!!!'\n",
        "print(a,type(a))\n"
      ],
      "execution_count": null,
      "outputs": [
        {
          "output_type": "stream",
          "text": [
            "5 <class 'int'>\n",
            "Hi students!!! <class 'str'>\n"
          ],
          "name": "stdout"
        }
      ]
    },
    {
      "cell_type": "markdown",
      "metadata": {
        "id": "HJCBzjuvYcj_"
      },
      "source": [
        "## Operators\n",
        "Operators are special symbols to perform operations on operands (variables and values). \n",
        "\n",
        "We start seeing about arithmetic operators, which are are used to perform mathematical operations like addition, subtraction, multiplication etc."
      ]
    },
    {
      "cell_type": "code",
      "metadata": {
        "id": "BLpj5P8lYidx",
        "colab": {
          "base_uri": "https://localhost:8080/",
          "height": 136
        },
        "outputId": "6c6dcbb0-e003-463e-d11a-3281033b4ec5"
      },
      "source": [
        "x = 6\n",
        "y = 4\n",
        "\n",
        "# Add two operands\n",
        "print('x + y =', x+y) # Output: x + y = 10\n",
        "\n",
        "# Subtract right operand from the left\n",
        "print('x - y =', x-y) # Output: x - y = 2\n",
        "\n",
        "# Multiply two operands\n",
        "print('x * y =', x*y) # Output: x * y = 24\n",
        "\n",
        "# Divide left operand by the right one \n",
        "print('x / y =', x/y) # Output: x / y = 1.5\n",
        "\n",
        "# Floor division (quotient)\n",
        "print('x // y =', x//y) # Output: x // y = 1\n",
        "\n",
        "# Remainder of the division of left operand by the right\n",
        "print('x % y =', x%y) # Output: x % y = 2\n",
        "\n",
        "# Left operand raised to the power of right (x^y)\n",
        "print('x ** y =', x**y) # Output: x ** y = 1296\n",
        "\n"
      ],
      "execution_count": null,
      "outputs": [
        {
          "output_type": "stream",
          "text": [
            "x + y = 10\n",
            "x - y = 2\n",
            "x * y = 24\n",
            "x / y = 1.5\n",
            "x // y = 1\n",
            "x % y = 2\n",
            "x ** y = 1296\n"
          ],
          "name": "stdout"
        }
      ]
    },
    {
      "cell_type": "markdown",
      "metadata": {
        "id": "9Pkbzq7oYr1M"
      },
      "source": [
        "Let me show you more examples:\n"
      ]
    },
    {
      "cell_type": "code",
      "metadata": {
        "id": "vkrrMJCjYtz8",
        "colab": {
          "base_uri": "https://localhost:8080/",
          "height": 51
        },
        "outputId": "040ef518-f4e0-4b6e-ae63-16f76aad1e96"
      },
      "source": [
        "\n",
        "a = 1\n",
        "\n",
        "# a += 5 ----> a = a + 5\n",
        "a +=5\n",
        "print(a) # Output: 6\n",
        "\n",
        "# a /= 2 ----> a = a / 2\n",
        "a /= 2\n",
        "print(a) # Output: 3.0"
      ],
      "execution_count": null,
      "outputs": [
        {
          "output_type": "stream",
          "text": [
            "6\n",
            "3.0\n"
          ],
          "name": "stdout"
        }
      ]
    },
    {
      "cell_type": "markdown",
      "metadata": {
        "id": "7AY7CA31Zgeu"
      },
      "source": [
        "## Python Comments\n",
        "We can write comments in our code in 3 different ways:\n"
      ]
    },
    {
      "cell_type": "code",
      "metadata": {
        "id": "DNkVg6jsZsYZ"
      },
      "source": [
        "#This is a line comment\n",
        "\n",
        "\"\"\" This is a multiline \n",
        "comment\n",
        "\"\"\"\n",
        "\n",
        "'''This is also a multiline\n",
        "comment'''\n",
        "\n"
      ],
      "execution_count": null,
      "outputs": []
    },
    {
      "cell_type": "markdown",
      "metadata": {
        "id": "TzAUKi1tZ_kc"
      },
      "source": [
        "## Get Input from User\n",
        "\n",
        "The **input()** function allows us to take input from user. For example:"
      ]
    },
    {
      "cell_type": "code",
      "metadata": {
        "id": "Wh402XDKaOTf",
        "colab": {
          "base_uri": "https://localhost:8080/",
          "height": 51
        },
        "outputId": "0f04c9e1-bb0d-4732-e8a3-92f305ccb043"
      },
      "source": [
        "name = input('Please, enter your name:')\n",
        "print('Your name is:', name)\n"
      ],
      "execution_count": null,
      "outputs": [
        {
          "output_type": "stream",
          "text": [
            "Please, enter your name:Isabel Segura Bedmar\n",
            "Your name is: Isabel Segura Bedmar\n"
          ],
          "name": "stdout"
        }
      ]
    },
    {
      "cell_type": "markdown",
      "metadata": {
        "id": "tlUz8Xczadd_"
      },
      "source": [
        "## Type Conversion\n",
        "\n",
        "We can transform a variable from one data type (integer, string, float, etc.) to another. There are two ways to perform type conversion:\n",
        "- Implicit type converion: Python always transforms smaller  type to larger  type to avoid the loss of data. The user does not have to say anything. \n",
        "- Explicit conversion: the user choose what data type is used by using predefined functions such as int(), float(), str().\n",
        "\n"
      ]
    },
    {
      "cell_type": "code",
      "metadata": {
        "id": "L-eWDpu2a1Ou",
        "colab": {
          "base_uri": "https://localhost:8080/",
          "height": 51
        },
        "outputId": "4530db9a-4cab-44aa-fe03-e6a424e9b9eb"
      },
      "source": [
        "a = 5  # integer type\n",
        "b = 3.2 # float type\n",
        "\n",
        "number = a + b\n",
        "\n",
        "print(\"number:\",number)\n",
        "print(\"type of number:\",type(number))"
      ],
      "execution_count": null,
      "outputs": [
        {
          "output_type": "stream",
          "text": [
            "number: 8.2\n",
            "type of number: <class 'float'>\n"
          ],
          "name": "stdout"
        }
      ]
    },
    {
      "cell_type": "markdown",
      "metadata": {
        "id": "nqTx3t88blKv"
      },
      "source": [
        "The following cell will throw an error because Python does not implement any type conversion for the operator + with a number and a string:\n",
        " \n",
        "\"TypeError: unsupported operand type(s) for +: 'int' and 'str'\"\n"
      ]
    },
    {
      "cell_type": "code",
      "metadata": {
        "id": "GSn_rJ-FbcFF",
        "colab": {
          "base_uri": "https://localhost:8080/",
          "height": 198
        },
        "outputId": "b79abcbb-af77-43a8-8c11-429f083f88f8"
      },
      "source": [
        "a = 5     # int type\n",
        "b = \"23\"   # str type\n",
        "\n",
        "print(a+b)"
      ],
      "execution_count": null,
      "outputs": [
        {
          "output_type": "error",
          "ename": "TypeError",
          "evalue": "ignored",
          "traceback": [
            "\u001b[0;31m---------------------------------------------------------------------------\u001b[0m",
            "\u001b[0;31mTypeError\u001b[0m                                 Traceback (most recent call last)",
            "\u001b[0;32m<ipython-input-11-2ff8b91f3044>\u001b[0m in \u001b[0;36m<module>\u001b[0;34m()\u001b[0m\n\u001b[1;32m      2\u001b[0m \u001b[0mb\u001b[0m \u001b[0;34m=\u001b[0m \u001b[0;34m\"23\"\u001b[0m   \u001b[0;31m# str type\u001b[0m\u001b[0;34m\u001b[0m\u001b[0;34m\u001b[0m\u001b[0m\n\u001b[1;32m      3\u001b[0m \u001b[0;34m\u001b[0m\u001b[0m\n\u001b[0;32m----> 4\u001b[0;31m \u001b[0mprint\u001b[0m\u001b[0;34m(\u001b[0m\u001b[0ma\u001b[0m\u001b[0;34m+\u001b[0m\u001b[0mb\u001b[0m\u001b[0;34m)\u001b[0m\u001b[0;34m\u001b[0m\u001b[0;34m\u001b[0m\u001b[0m\n\u001b[0m",
            "\u001b[0;31mTypeError\u001b[0m: unsupported operand type(s) for +: 'int' and 'str'"
          ]
        }
      ]
    },
    {
      "cell_type": "markdown",
      "metadata": {
        "id": "RA-0Y7CmbyE7"
      },
      "source": [
        "To avoid this error, Python allows users to define their own type conversions. In the previous example, we can apply two different type conversions. \n",
        "\n",
        "1) For example, from str to int by using the function int(). In our example, we convert the value stored in b, \"23\" to 23. Then, the operator '+' is working on two integers, and its results will be the addition of these numbers: 28."
      ]
    },
    {
      "cell_type": "code",
      "metadata": {
        "id": "ttatmRCjcB6W",
        "colab": {
          "base_uri": "https://localhost:8080/",
          "height": 34
        },
        "outputId": "a8db5e1c-218b-42c2-8700-cd9113b98133"
      },
      "source": [
        "a=5\n",
        "b=\"23\"\n",
        "result=a + int(b)\n",
        "\n",
        "print(result,type(result)) #this will show 28 <class 'int'>"
      ],
      "execution_count": null,
      "outputs": [
        {
          "output_type": "stream",
          "text": [
            "28 <class 'int'>\n"
          ],
          "name": "stdout"
        }
      ]
    },
    {
      "cell_type": "markdown",
      "metadata": {
        "id": "JMBH-SaicTnq"
      },
      "source": [
        "2) From int to str by using the function str(). In our example, we convert the value stored in a, 5 to \"5\". Then, the operator '+' is working on two strings. So it concatenate the two strings resulgint \"523\""
      ]
    },
    {
      "cell_type": "code",
      "metadata": {
        "id": "J4uYHZPwcWt8",
        "colab": {
          "base_uri": "https://localhost:8080/",
          "height": 34
        },
        "outputId": "b5886e0e-3455-420d-d7c2-ab69fd3b82ef"
      },
      "source": [
        "a=5\n",
        "b=\"23\"\n",
        "result=str(a) + b\n",
        "\n",
        "print(result,type(result)) #this will show 523 <class 'str'>"
      ],
      "execution_count": null,
      "outputs": [
        {
          "output_type": "stream",
          "text": [
            "523 <class 'str'>\n"
          ],
          "name": "stdout"
        }
      ]
    },
    {
      "cell_type": "markdown",
      "metadata": {
        "id": "ncAL9jG2d7P8"
      },
      "source": [
        "## Some basic types in Python\n",
        "\n",
        "Python supports integers (int), floating point numbers (float) and complex numbers (complex). Python also allows to define value booleans: True and False.\n",
        "\n"
      ]
    },
    {
      "cell_type": "code",
      "metadata": {
        "id": "ZTFI2-dDeCUv",
        "colab": {
          "base_uri": "https://localhost:8080/",
          "height": 85
        },
        "outputId": "94e45bd8-4e6c-4a9a-f29f-745a4e8d2c8f"
      },
      "source": [
        "# Output: <class 'int'>\n",
        "print(type(5))\n",
        "\n",
        "# Output: <class 'float'>\n",
        "print(type(5.0))\n",
        "\n",
        "c = 5 + 3j\n",
        "\n",
        "# Output: <class 'complex'>\n",
        "print(type(c))\n",
        "\n",
        "c= True\n",
        "# Output: <class 'bool'>\n",
        "print(type(c))\n"
      ],
      "execution_count": null,
      "outputs": [
        {
          "output_type": "stream",
          "text": [
            "<class 'int'>\n",
            "<class 'float'>\n",
            "<class 'complex'>\n",
            "<class 'bool'>\n"
          ],
          "name": "stdout"
        }
      ]
    }
  ]
}