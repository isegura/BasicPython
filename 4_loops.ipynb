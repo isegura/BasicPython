{
  "nbformat": 4,
  "nbformat_minor": 0,
  "metadata": {
    "colab": {
      "name": "4-loops.ipynb",
      "provenance": [],
      "collapsed_sections": [],
      "authorship_tag": "ABX9TyPO8FLH2ao+xsfKQy8EXw5d",
      "include_colab_link": true
    },
    "kernelspec": {
      "name": "python3",
      "display_name": "Python 3"
    }
  },
  "cells": [
    {
      "cell_type": "markdown",
      "metadata": {
        "id": "view-in-github",
        "colab_type": "text"
      },
      "source": [
        "<a href=\"https://colab.research.google.com/github/isegura/BasicPython/blob/main/4_loops.ipynb\" target=\"_parent\"><img src=\"https://colab.research.google.com/assets/colab-badge.svg\" alt=\"Open In Colab\"/></a>"
      ]
    },
    {
      "cell_type": "markdown",
      "metadata": {
        "id": "-5XhGu4e7UVE"
      },
      "source": [
        "# Loops\n",
        "\n",
        "This notebook present some basic statements such as loops.\n",
        "\n",
        "## For \n",
        "\n",
        "A for loop allows us to iterate over a sequence (such as a list, a string, a tuple, a dictionary, or a set).\n",
        "\n",
        "For example, this code prints all letters of \"Hello\":"
      ]
    },
    {
      "cell_type": "code",
      "metadata": {
        "colab": {
          "base_uri": "https://localhost:8080/"
        },
        "id": "HBND2z0u7Tup",
        "outputId": "5ca1bd35-38bb-41be-f9d8-f23847e5b466"
      },
      "source": [
        "for c in \"Hello\":\n",
        "        print(c)"
      ],
      "execution_count": 5,
      "outputs": [
        {
          "output_type": "stream",
          "text": [
            "H\n",
            "e\n",
            "l\n",
            "l\n",
            "o\n"
          ],
          "name": "stdout"
        }
      ]
    },
    {
      "cell_type": "markdown",
      "metadata": {
        "id": "yBoNYJxJFrhZ"
      },
      "source": [
        "For example, write a function that takes a list of integers and returns the addition of its numbers:"
      ]
    },
    {
      "cell_type": "code",
      "metadata": {
        "colab": {
          "base_uri": "https://localhost:8080/"
        },
        "id": "AfeFNmbuFxMy",
        "outputId": "82ba9b8a-f989-49f8-c8c0-e00ffeb681b8"
      },
      "source": [
        "def sumElements(inputList):\n",
        "    result=0\n",
        "    for e in inputList:\n",
        "        result += e\n",
        "\n",
        "    return result\n",
        "\n",
        "l=[6,3,0,-3]\n",
        "print(sumElements(l))\n",
        "\n",
        "l=[5,3,5,-3]\n",
        "print(sumElements(l))\n"
      ],
      "execution_count": 9,
      "outputs": [
        {
          "output_type": "stream",
          "text": [
            "6\n",
            "10\n"
          ],
          "name": "stdout"
        }
      ]
    },
    {
      "cell_type": "markdown",
      "metadata": {
        "id": "1lBzd4ruGZNU"
      },
      "source": [
        "### The range function\n",
        "The range function creates a sequence of numbers. For example, range(10) will generate numbers from 0 to 9.\n",
        "\n",
        "\n",
        "\n",
        "```\n",
        "range(start,stop,step) creates a sequence where its first element is start and the next element is start + step. If step is not provided, its value is 1. \n",
        "```\n",
        "Let me show you some examples:\n"
      ]
    },
    {
      "cell_type": "code",
      "metadata": {
        "colab": {
          "base_uri": "https://localhost:8080/"
        },
        "id": "UF8vPxcaHGBC",
        "outputId": "ed642c31-07d2-4e87-c5c2-dc2530e29e36"
      },
      "source": [
        "print(list(range(10))) #print the list of numbers from 0 to 9\n",
        "print(list(range(2, 8))) #print the list of numbers from 2 to 7\n",
        "print(list(range(2, 20, 2))) #print the sequence of numbers from 2 to 18 by adding 2 each step\n",
        "\n"
      ],
      "execution_count": 14,
      "outputs": [
        {
          "output_type": "stream",
          "text": [
            "[0, 1, 2, 3, 4, 5, 6, 7, 8, 9]\n",
            "[2, 3, 4, 5, 6, 7]\n",
            "[2, 4, 6, 8, 10, 12, 14, 16, 18]\n"
          ],
          "name": "stdout"
        }
      ]
    },
    {
      "cell_type": "markdown",
      "metadata": {
        "id": "_iht5qSsATPk"
      },
      "source": [
        "## While\n",
        "\n",
        "A while loop allows us to execute a set of instructions repeatedly while a condition is evaluated to True. When the condition is false, Python executes the line immediately after the loop.\n",
        "```\n",
        "while condition:\n",
        "    statements\n",
        "```\n",
        "\n",
        "For examples, write a function that takes a natural number, n, and returns the addition from 1 to n\n"
      ]
    },
    {
      "cell_type": "code",
      "metadata": {
        "colab": {
          "base_uri": "https://localhost:8080/"
        },
        "id": "pBFKVkWrAfUs",
        "outputId": "4d3a18dd-6294-4bae-af12-cb10ded608d5"
      },
      "source": [
        "def sumFirstN(n):\n",
        "    if type(n)!=int or n<=0:\n",
        "        print(n, \"is not a right input\")\n",
        "        return 0\n",
        "    \n",
        "    result=0\n",
        "    count=1\n",
        "    while count<=n:\n",
        "        result += count\n",
        "        count +=1\n",
        "    \n",
        "    print(\"The addition from 1 to {} is {}\".format(n,result))\n",
        "    return result\n",
        "\n",
        "print(sumFirstN(-35))\n",
        "\n",
        "print(sumFirstN(3))\n",
        "print(sumFirstN(5))\n",
        "print(sumFirstN(10))\n"
      ],
      "execution_count": 7,
      "outputs": [
        {
          "output_type": "stream",
          "text": [
            "-35 is not a right input\n",
            "0\n",
            "The addition from 1 to 3 is 6\n",
            "6\n",
            "The addition from 1 to 5 is 15\n",
            "15\n",
            "The addition from 1 to 10 is 55\n",
            "55\n"
          ],
          "name": "stdout"
        }
      ]
    },
    {
      "cell_type": "markdown",
      "metadata": {
        "id": "81eJK6LsHtWy"
      },
      "source": [
        "### Break statement\n",
        "\n",
        "You can use 'break' to stop a loop."
      ]
    },
    {
      "cell_type": "markdown",
      "metadata": {
        "id": "8LDKeowhIHXa"
      },
      "source": [
        "Write a program that takes a string and prints each of its character while they are not ' '. "
      ]
    },
    {
      "cell_type": "code",
      "metadata": {
        "colab": {
          "base_uri": "https://localhost:8080/"
        },
        "id": "ZXmvZ_XnILIa",
        "outputId": "2dcc62d4-2dc6-4a0b-af5f-5055a1b84f19"
      },
      "source": [
        "def printChar(phrase):\n",
        "    for c in phrase:\n",
        "        if c == ' ':\n",
        "            break\n",
        "        print(c)\n",
        "\n",
        "print(printChar('Data Structures and Algorithms'))"
      ],
      "execution_count": 17,
      "outputs": [
        {
          "output_type": "stream",
          "text": [
            "D\n",
            "a\n",
            "t\n",
            "a\n",
            "None\n"
          ],
          "name": "stdout"
        }
      ]
    }
  ]
}