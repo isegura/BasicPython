{
  "nbformat": 4,
  "nbformat_minor": 0,
  "metadata": {
    "colab": {
      "name": "5-Exceptions.ipynb",
      "provenance": [],
      "authorship_tag": "ABX9TyOAaBD3qtZOE4UhTqh5vB9I",
      "include_colab_link": true
    },
    "kernelspec": {
      "name": "python3",
      "display_name": "Python 3"
    }
  },
  "cells": [
    {
      "cell_type": "markdown",
      "metadata": {
        "id": "view-in-github",
        "colab_type": "text"
      },
      "source": [
        "<a href=\"https://colab.research.google.com/github/isegura/BasicPython/blob/main/5_Exceptions.ipynb\" target=\"_parent\"><img src=\"https://colab.research.google.com/assets/colab-badge.svg\" alt=\"Open In Colab\"/></a>"
      ]
    },
    {
      "cell_type": "markdown",
      "metadata": {
        "id": "_eXuU7y0KNFO"
      },
      "source": [
        "# Handling exceptions\n",
        "\n",
        "When an error happens in your program, your code should handle it. \n",
        "\n",
        "The following cell contains a dictionary with the RGB codes of some colors and a functions that takes a color and returns its RGB code."
      ]
    },
    {
      "cell_type": "code",
      "metadata": {
        "colab": {
          "base_uri": "https://localhost:8080/"
        },
        "id": "HX9Jzf6UKKxJ",
        "outputId": "ccc58ece-6c4a-4209-9fab-01c20e1005c7"
      },
      "source": [
        "#dictionary saves the RGB of the basic colors\n",
        "COLORS={'blue': (0, 0, 150), 'black': (0, 0, 0), 'green': (0, 150, 0), 'red': (150, 0, 0)}\n",
        "\n",
        "def getRGB(color):\n",
        "    return COLORS[color]\n",
        "\n",
        "print(getRGB('blue'))\n",
        "print(getRGB('red'))\n",
        "print(getRGB('black'))\n",
        "print(getRGB('green'))\n",
        "\n"
      ],
      "execution_count": null,
      "outputs": [
        {
          "output_type": "stream",
          "text": [
            "(0, 0, 150)\n",
            "(150, 0, 0)\n",
            "(0, 0, 0)\n",
            "(0, 150, 0)\n"
          ],
          "name": "stdout"
        }
      ]
    },
    {
      "cell_type": "markdown",
      "metadata": {
        "id": "nU1vEmMwSr_u"
      },
      "source": [
        "However, if you try to get the RGB code of a color that does not exist into the dictionary, the code throws an error:"
      ]
    },
    {
      "cell_type": "code",
      "metadata": {
        "colab": {
          "base_uri": "https://localhost:8080/",
          "height": 288
        },
        "id": "c6PkG2HFKeum",
        "outputId": "25bbbba8-a9e0-4b1f-8c41-b6782437f597"
      },
      "source": [
        "print(getRGB('orange'))\n"
      ],
      "execution_count": null,
      "outputs": [
        {
          "output_type": "error",
          "ename": "KeyError",
          "evalue": "ignored",
          "traceback": [
            "\u001b[0;31m---------------------------------------------------------------------------\u001b[0m",
            "\u001b[0;31mKeyError\u001b[0m                                  Traceback (most recent call last)",
            "\u001b[0;32m<ipython-input-2-3e901662c6ff>\u001b[0m in \u001b[0;36m<module>\u001b[0;34m()\u001b[0m\n\u001b[0;32m----> 1\u001b[0;31m \u001b[0mprint\u001b[0m\u001b[0;34m(\u001b[0m\u001b[0mgetRGB\u001b[0m\u001b[0;34m(\u001b[0m\u001b[0;34m'orange'\u001b[0m\u001b[0;34m)\u001b[0m\u001b[0;34m)\u001b[0m\u001b[0;34m\u001b[0m\u001b[0;34m\u001b[0m\u001b[0m\n\u001b[0m",
            "\u001b[0;32m<ipython-input-1-35a8e3561dd5>\u001b[0m in \u001b[0;36mgetRGB\u001b[0;34m(color)\u001b[0m\n\u001b[1;32m      3\u001b[0m \u001b[0;34m\u001b[0m\u001b[0m\n\u001b[1;32m      4\u001b[0m \u001b[0;32mdef\u001b[0m \u001b[0mgetRGB\u001b[0m\u001b[0;34m(\u001b[0m\u001b[0mcolor\u001b[0m\u001b[0;34m)\u001b[0m\u001b[0;34m:\u001b[0m\u001b[0;34m\u001b[0m\u001b[0;34m\u001b[0m\u001b[0m\n\u001b[0;32m----> 5\u001b[0;31m     \u001b[0;32mreturn\u001b[0m \u001b[0mCOLORS\u001b[0m\u001b[0;34m[\u001b[0m\u001b[0mcolor\u001b[0m\u001b[0;34m]\u001b[0m\u001b[0;34m\u001b[0m\u001b[0;34m\u001b[0m\u001b[0m\n\u001b[0m\u001b[1;32m      6\u001b[0m \u001b[0;34m\u001b[0m\u001b[0m\n\u001b[1;32m      7\u001b[0m \u001b[0mprint\u001b[0m\u001b[0;34m(\u001b[0m\u001b[0mgetRGB\u001b[0m\u001b[0;34m(\u001b[0m\u001b[0;34m'blue'\u001b[0m\u001b[0;34m)\u001b[0m\u001b[0;34m)\u001b[0m\u001b[0;34m\u001b[0m\u001b[0;34m\u001b[0m\u001b[0m\n",
            "\u001b[0;31mKeyError\u001b[0m: 'orange'"
          ]
        }
      ]
    },
    {
      "cell_type": "markdown",
      "metadata": {
        "id": "BCVxQ7vxS5QK"
      },
      "source": [
        "You can use the statement try-except to catch this error and handle it"
      ]
    },
    {
      "cell_type": "code",
      "metadata": {
        "colab": {
          "base_uri": "https://localhost:8080/"
        },
        "id": "Xnf2QJGNTCgX",
        "outputId": "a8abff9e-26b5-404b-f207-77aabcdfc882"
      },
      "source": [
        "def getRGB(color):\n",
        "    try:\n",
        "        return COLORS[color]\n",
        "    except:\n",
        "        print(color, ' does not exist into the dictionary')\n",
        "        return None\n",
        "\n",
        "print(getRGB('blue'))\n",
        "print(getRGB('orange'))\n"
      ],
      "execution_count": null,
      "outputs": [
        {
          "output_type": "stream",
          "text": [
            "(0, 0, 150)\n",
            "orange  does not exist into the dictionary\n",
            "None\n"
          ],
          "name": "stdout"
        }
      ]
    }
  ]
}