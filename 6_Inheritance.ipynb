{
  "nbformat": 4,
  "nbformat_minor": 0,
  "metadata": {
    "colab": {
      "name": "6-Inheritance.ipynb",
      "provenance": [],
      "collapsed_sections": [],
      "authorship_tag": "ABX9TyP1gyFOpqA9xU4jELw0W7/Q",
      "include_colab_link": true
    },
    "kernelspec": {
      "name": "python3",
      "display_name": "Python 3"
    }
  },
  "cells": [
    {
      "cell_type": "markdown",
      "metadata": {
        "id": "view-in-github",
        "colab_type": "text"
      },
      "source": [
        "<a href=\"https://colab.research.google.com/github/isegura/BasicPython/blob/main/6_Inheritance.ipynb\" target=\"_parent\"><img src=\"https://colab.research.google.com/assets/colab-badge.svg\" alt=\"Open In Colab\"/></a>"
      ]
    },
    {
      "cell_type": "markdown",
      "metadata": {
        "id": "Nt5RsNghUCTG"
      },
      "source": [
        "\n",
        "# Inheritance\n",
        "\n",
        "\n",
        "Inheritance allows us to define a child class that inherits all the methods and properties from a parent class.\n",
        "\n",
        "For example, let me define a class to represent a person. We will only save his/her name and number of identification.\n"
      ]
    },
    {
      "cell_type": "code",
      "metadata": {
        "colab": {
          "base_uri": "https://localhost:8080/"
        },
        "id": "alz-HAKYT-j2",
        "outputId": "cba4a4bf-1a7b-48b1-c027-b66204bcfd9d"
      },
      "source": [
        "class Person:\n",
        "  def __init__(self, name, nif):\n",
        "    self.name = name\n",
        "    self.nif = nif\n",
        "\n",
        "  def __str__(self):\n",
        "    return self.name+'\\t'+self.nif\n",
        "\n",
        "#Use the Person class to create an object, and then execute the printname method:\n",
        "\n",
        "x = Person(\"Segura Bedmar, Isabel\", \"1111111S\")\n",
        "print(x)"
      ],
      "execution_count": 2,
      "outputs": [
        {
          "output_type": "stream",
          "text": [
            "Segura Bedmar, Isabel\t1111111S\n"
          ],
          "name": "stdout"
        }
      ]
    },
    {
      "cell_type": "markdown",
      "metadata": {
        "id": "RgOCsCuAUxGG"
      },
      "source": [
        "Now, we can define a child class, Student, that \n",
        "inherits the properties and methods from the Person class:\n",
        "\n"
      ]
    },
    {
      "cell_type": "code",
      "metadata": {
        "colab": {
          "base_uri": "https://localhost:8080/"
        },
        "id": "KdHwqzPXVASx",
        "outputId": "33f0d4fb-9e7d-458d-cc09-4c76ef2fb7cf"
      },
      "source": [
        "class Student(Person):\n",
        "  def __init__(self, name, nif, nia):\n",
        "    super().__init__(name, nif)\n",
        "    self.nia = nia\n",
        "\n",
        "  def __str__(self):\n",
        "    return self.name+'\\t'+self.nif+'\\t'+self.nia\n",
        "\n",
        "#Use the Person class to create an object, and then execute the printname method:\n",
        "\n",
        "x = Student(\"Segura Bedmar, Isabel\", \"1111111S\",\"10003408\")\n",
        "print(x)"
      ],
      "execution_count": 8,
      "outputs": [
        {
          "output_type": "stream",
          "text": [
            "Segura Bedmar, Isabel\t1111111S\t10003408\n"
          ],
          "name": "stdout"
        }
      ]
    }
  ]
}