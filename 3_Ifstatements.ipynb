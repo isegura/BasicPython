{
  "nbformat": 4,
  "nbformat_minor": 0,
  "metadata": {
    "colab": {
      "name": "3-Ifstatements.ipynb",
      "provenance": [],
      "collapsed_sections": [],
      "authorship_tag": "ABX9TyPjSjwXWGNvQZzheGc76r46",
      "include_colab_link": true
    },
    "kernelspec": {
      "name": "python3",
      "display_name": "Python 3"
    }
  },
  "cells": [
    {
      "cell_type": "markdown",
      "metadata": {
        "id": "view-in-github",
        "colab_type": "text"
      },
      "source": [
        "<a href=\"https://colab.research.google.com/github/isegura/BasicPython/blob/main/3_Ifstatements.ipynb\" target=\"_parent\"><img src=\"https://colab.research.google.com/assets/colab-badge.svg\" alt=\"Open In Colab\"/></a>"
      ]
    },
    {
      "cell_type": "markdown",
      "metadata": {
        "id": "-5XhGu4e7UVE"
      },
      "source": [
        "# Conditional Statements\n",
        "\n",
        "This notebook present some basic statements such as conditional statements.\n",
        "\n",
        "Python evaluates each expression and executes the statement corresponding to the first expression that is true. If none of the expressions are true, the statement corresponding to the else clause is executed:\n",
        "\n",
        "```\n",
        "if <expr1>:\n",
        "    <statement(s1)>\n",
        "elif <expr2>:\n",
        "    <statement(s2)>\n",
        "elif <expr3>:\n",
        "    <statement(s3)>\n",
        "    ...\n",
        "else:\n",
        "    <statement(sn)>\n",
        "```\n",
        "\n",
        "For example, write a Python functions that takes three numbers and returns the largest number \n"
      ]
    },
    {
      "cell_type": "code",
      "metadata": {
        "colab": {
          "base_uri": "https://localhost:8080/"
        },
        "id": "HBND2z0u7Tup",
        "outputId": "3cf264b7-58d3-4566-e4c9-f29e1d329eb0"
      },
      "source": [
        "def largest(a,b,c):\n",
        "    if (a>b and a>c): \n",
        "        print(a, \" is the largest\") \n",
        "        return a\n",
        "    elif (b>a and b>c): \n",
        "        print(b, \" is the largest\") \n",
        "        return b\n",
        "    elif (c>a and c>b): \n",
        "        print(c, \" is the largest\") \n",
        "        return c\n",
        "    else: \n",
        "        print(\"entered numbers are equal\") \n",
        "        return None\n",
        "\n",
        "print(largest(5,1,2))\n",
        "print(largest(5,9,8))\n",
        "print(largest(5,2,8))\n",
        "\n",
        "print(largest(5,5,2))\n",
        "print(largest(5,2,8))"
      ],
      "execution_count": null,
      "outputs": [
        {
          "output_type": "stream",
          "text": [
            "5  is the largest\n",
            "5\n",
            "9  is the largest\n",
            "9\n",
            "8  is the largest\n",
            "8\n",
            "entered numbers are equal\n",
            "None\n",
            "8  is the largest\n",
            "8\n"
          ],
          "name": "stdout"
        }
      ]
    },
    {
      "cell_type": "markdown",
      "metadata": {
        "id": "_iht5qSsATPk"
      },
      "source": [
        "## If Nested statements\n",
        "\n",
        "If statement can be nested. \n",
        "\n",
        "For example, the following function takes a year and checks if it is a leap year:"
      ]
    },
    {
      "cell_type": "code",
      "metadata": {
        "colab": {
          "base_uri": "https://localhost:8080/"
        },
        "id": "pBFKVkWrAfUs",
        "outputId": "c8921316-a3d1-452e-92f1-ce1ecb75b8e6"
      },
      "source": [
        "def checkLeapYear(year):\n",
        "    if type(year)!=int:\n",
        "        print(\"{} is not a number\".format(year))\n",
        "        return False\n",
        "    \n",
        "    result=False\n",
        "    if (year % 4) == 0:\n",
        "        if (year % 100) == 0:\n",
        "            if (year % 400) == 0:\n",
        "                print(year, \" is  a leap year\")\n",
        "                result=True\n",
        "            else:\n",
        "                print(year, \" is not a leap year\")\n",
        "                result=False\n",
        "\n",
        "        else:\n",
        "            print(year, \" is  a leap year\")\n",
        "            result=True\n",
        "\n",
        "    else:\n",
        "        print(year, \" is not a leap year\")\n",
        "        result=False\n",
        "\n",
        "\n",
        "    return result\n",
        "\n",
        "print(checkLeapYear('hola'))\n",
        "print(checkLeapYear(2020))\n",
        "print(checkLeapYear(1996))\n",
        "print(checkLeapYear(1974))\n"
      ],
      "execution_count": null,
      "outputs": [
        {
          "output_type": "stream",
          "text": [
            "hola is not a number\n",
            "False\n",
            "2020  is  a leap year\n",
            "True\n",
            "1996  is  a leap year\n",
            "True\n",
            "1974  is not a leap year\n",
            "False\n"
          ],
          "name": "stdout"
        }
      ]
    }
  ]
}